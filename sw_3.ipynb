{
  "nbformat": 4,
  "nbformat_minor": 0,
  "metadata": {
    "colab": {
      "provenance": [],
      "authorship_tag": "ABX9TyOKq5o17xJDQbxX480rFFAI",
      "include_colab_link": true
    },
    "kernelspec": {
      "name": "python3",
      "display_name": "Python 3"
    },
    "language_info": {
      "name": "python"
    }
  },
  "cells": [
    {
      "cell_type": "markdown",
      "metadata": {
        "id": "view-in-github",
        "colab_type": "text"
      },
      "source": [
        "<a href=\"https://colab.research.google.com/github/tameem974/9785/blob/main/sw_3.ipynb\" target=\"_parent\"><img src=\"https://colab.research.google.com/assets/colab-badge.svg\" alt=\"Open In Colab\"/></a>"
      ]
    },
    {
      "cell_type": "code",
      "execution_count": 1,
      "metadata": {
        "colab": {
          "base_uri": "https://localhost:8080/"
        },
        "id": "ljhUvZqzp51D",
        "outputId": "bd6eae15-49a0-41ff-bb7b-4e9ddd3c1873"
      },
      "outputs": [
        {
          "output_type": "stream",
          "name": "stdout",
          "text": [
            "Sunny\n"
          ]
        }
      ],
      "source": [
        "t = 25\n",
        "h = 60\n",
        "wind = 10\n",
        "w = 0.5 * (t ** 2) - (0.4 * h) + (0.05 * wind) - 30\n",
        "if w > 10:\n",
        "    print(\"Sunny\")\n",
        "elif 0 <= w <= 10:\n",
        "    print(\"Windy\")\n",
        "elif -10 <= w < 0:\n",
        "    print(\"Cloud\")\n",
        "elif w < -10:\n",
        "    print(\"Rainy\")"
      ]
    }
  ]
}