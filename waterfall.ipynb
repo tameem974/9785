{
  "nbformat": 4,
  "nbformat_minor": 0,
  "metadata": {
    "colab": {
      "provenance": [],
      "toc_visible": true,
      "authorship_tag": "ABX9TyPvGy/X2oYWWYk0XQs2wHl1",
      "include_colab_link": true
    },
    "kernelspec": {
      "name": "python3",
      "display_name": "Python 3"
    },
    "language_info": {
      "name": "python"
    }
  },
  "cells": [
    {
      "cell_type": "markdown",
      "metadata": {
        "id": "view-in-github",
        "colab_type": "text"
      },
      "source": [
        "<a href=\"https://colab.research.google.com/github/tameem974/9785/blob/main/waterfall.ipynb\" target=\"_parent\"><img src=\"https://colab.research.google.com/assets/colab-badge.svg\" alt=\"Open In Colab\"/></a>"
      ]
    },
    {
      "cell_type": "code",
      "execution_count": 2,
      "metadata": {
        "colab": {
          "base_uri": "https://localhost:8080/"
        },
        "id": "l_48owVfsaMQ",
        "outputId": "643f9db8-12c8-41d3-84d7-a34d7d53cc55"
      },
      "outputs": [
        {
          "output_type": "stream",
          "name": "stdout",
          "text": [
            "Enter the temperature: 20\n",
            "Enter the humidity: 78\n",
            "The result of the calculation is 188.22\n",
            "The weather is: The weather is Sunny\n"
          ]
        }
      ],
      "source": [
        "def calculate_weather_result(temperature, humidity):\n",
        "    if not (0 <= humidity <= 100):\n",
        "        raise ValueError(\"Humidity should be between 0 and 100 percent.\")\n",
        "    return (0.5 * (temperature ** 2) - 0.2 * humidity - 15) / 0.9\n",
        "\n",
        "\n",
        "def classify_weather(result):\n",
        "    if result > 30:\n",
        "        return \"The weather is Sunny\"\n",
        "    elif 10 <= result <= 30:\n",
        "        return \"The weather is Windy\"\n",
        "    else:\n",
        "        return \"The weather is Rainy\"\n",
        "\n",
        "\n",
        "def main():\n",
        "    try:\n",
        "        temperature = float(input(\"Enter the temperature: \"))\n",
        "        humidity = float(input(\"Enter the humidity: \"))\n",
        "        result = calculate_weather_result(temperature, humidity)\n",
        "        weather = classify_weather(result)\n",
        "        print(f\"The result of the calculation is {result:.2f}\")\n",
        "        print(f\"The weather is: {weather}\")\n",
        "    except ValueError as e:\n",
        "        print(f\"Error: {e}\")\n",
        "\n",
        "\n",
        "if __name__ == \"__main__\":\n",
        "    main()"
      ]
    },
    {
      "cell_type": "code",
      "source": [
        "def calculate_weather_result(temperature, humidity):\n",
        "    if not (0 <= humidity <= 100):\n",
        "        raise ValueError(\"Humidity should be between 0 and 100 percent.\")\n",
        "    return (0.5 * (temperature ** 2) - 0.2 * humidity - 15) / 0.9\n",
        "\n",
        "\n",
        "def classify_weather(result):\n",
        "    if result > 30:\n",
        "        return \"The weather is Sunny\"\n",
        "    elif 10 <= result <= 30:\n",
        "        return \"The weather is Windy\"\n",
        "    else:\n",
        "        return \"The weather is Rainy\"\n",
        "\n",
        "\n",
        "def main():\n",
        "    try:\n",
        "        temperature = float(input(\"Enter the temperature: \"))\n",
        "        humidity = float(input(\"Enter the humidity: \"))\n",
        "        result = calculate_weather_result(temperature, humidity)\n",
        "        weather = classify_weather(result)\n",
        "        print(f\"The result of the calculation is {result:.2f}\")\n",
        "        print(f\"The weather is: {weather}\")\n",
        "    except ValueError as e:\n",
        "        print(f\"Error: {e}\")\n",
        "\n",
        "\n",
        "if __name__ == \"__main__\":\n",
        "    main()"
      ],
      "metadata": {
        "colab": {
          "base_uri": "https://localhost:8080/"
        },
        "id": "5FLeJQTmstp0",
        "outputId": "235335d2-c274-4f7c-f36d-a00de1bf8e72"
      },
      "execution_count": 3,
      "outputs": [
        {
          "output_type": "stream",
          "name": "stdout",
          "text": [
            "Enter the temperature: 12\n",
            "Enter the humidity: 15\n",
            "The result of the calculation is 60.00\n",
            "The weather is: The weather is Sunny\n"
          ]
        }
      ]
    },
    {
      "cell_type": "code",
      "source": [
        "def calculate_weather_result(temperature, humidity):\n",
        "    if not (0 <= humidity <= 100):\n",
        "        raise ValueError(\"Humidity should be between 0 and 100 percent.\")\n",
        "    return (0.5 * (temperature ** 2) - 0.2 * humidity - 15) / 0.9\n",
        "\n",
        "\n",
        "def classify_weather(result):\n",
        "    if result > 30:\n",
        "        return \"The weather is Sunny\"\n",
        "    elif 10 <= result <= 30:\n",
        "        return \"The weather is Windy\"\n",
        "    else:\n",
        "        return \"The weather is Rainy\"\n",
        "\n",
        "\n",
        "def main():\n",
        "    try:\n",
        "        temperature = float(input(\"Enter the temperature: \"))\n",
        "        humidity = float(input(\"Enter the humidity: \"))\n",
        "        result = calculate_weather_result(temperature, humidity)\n",
        "        weather = classify_weather(result)\n",
        "        print(f\"The result of the calculation is {result:.2f}\")\n",
        "        print(f\"The weather is: {weather}\")\n",
        "    except ValueError as e:\n",
        "        print(f\"Error: {e}\")\n",
        "\n",
        "\n",
        "if __name__ == \"__main__\":\n",
        "    main()\n",
        ""
      ],
      "metadata": {
        "colab": {
          "base_uri": "https://localhost:8080/"
        },
        "id": "FW0EipEbs9XQ",
        "outputId": "41b97cba-5a8c-4157-ae78-84474d05b6e2"
      },
      "execution_count": 4,
      "outputs": [
        {
          "output_type": "stream",
          "name": "stdout",
          "text": [
            "Enter the temperature: 18\n",
            "Enter the humidity: 8\n",
            "The result of the calculation is 161.56\n",
            "The weather is: The weather is Sunny\n"
          ]
        }
      ]
    }
  ]
}