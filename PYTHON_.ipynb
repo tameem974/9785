{
  "nbformat": 4,
  "nbformat_minor": 0,
  "metadata": {
    "colab": {
      "provenance": [],
      "authorship_tag": "ABX9TyN7Kn0Km3o1+rcmMgG34gc+",
      "include_colab_link": true
    },
    "kernelspec": {
      "name": "python3",
      "display_name": "Python 3"
    },
    "language_info": {
      "name": "python"
    }
  },
  "cells": [
    {
      "cell_type": "markdown",
      "metadata": {
        "id": "view-in-github",
        "colab_type": "text"
      },
      "source": [
        "<a href=\"https://colab.research.google.com/github/tameem974/9785/blob/main/PYTHON_.ipynb\" target=\"_parent\"><img src=\"https://colab.research.google.com/assets/colab-badge.svg\" alt=\"Open In Colab\"/></a>"
      ]
    },
    {
      "cell_type": "code",
      "execution_count": null,
      "metadata": {
        "colab": {
          "base_uri": "https://localhost:8080/"
        },
        "id": "45bKQbhKKNV1",
        "outputId": "b5f39add-82f5-4b9e-877a-5b7855666a17"
      },
      "outputs": [
        {
          "output_type": "stream",
          "name": "stdout",
          "text": [
            "['Book']\n",
            "['Book', 99]\n",
            "['Book', 99, 12.6]\n",
            "['Book', 99, 12.6, 'cookie']\n",
            "\n",
            "Copied List ['Book', 99, 12.6, 'cookie']\n",
            "\n",
            " Stuff1 after clear []\n",
            "stuff ['Book', 99, 12.6, 'cookie']\n",
            "0\n"
          ]
        }
      ],
      "source": [
        "stuff.append('Book')\n",
        "print(stuff)\n",
        "stuff.append(99)\n",
        "print(stuff)\n",
        "stuff.append(12.6)\n",
        "print(stuff)\n",
        "stuff.append('cookie')\n",
        "print(stuff)\n",
        "\n",
        "\n",
        "stuff1=stuff.copy()\n",
        "print('\\nCopied List',stuff1)\n",
        "\n",
        "\n",
        "stuff1.clear()\n",
        "print('\\n Stuff1 after clear',stuff1)\n",
        "\n",
        "\n",
        "print('stuff',stuff)\n",
        "print(stuff.count(12))\n"
      ]
    },
    {
      "cell_type": "code",
      "source": [],
      "metadata": {
        "id": "y3fEDq8XPEhk"
      },
      "execution_count": null,
      "outputs": []
    },
    {
      "cell_type": "code",
      "source": [
        "import matplotlib.pyplot as plt\n",
        "months = ['jan','feb','mar','april','may']\n",
        "profits = ['1000','900','879','777','654']\n",
        "plt.plot('months,profits')\n",
        "plt.xlabel('months')\n",
        "plt.ylabel('profits')"
      ],
      "metadata": {
        "colab": {
          "base_uri": "https://localhost:8080/",
          "height": 466
        },
        "id": "BnkjiuGfPEjI",
        "outputId": "1c327fb4-5063-42e9-ad96-a732597d9cff"
      },
      "execution_count": null,
      "outputs": [
        {
          "output_type": "execute_result",
          "data": {
            "text/plain": [
              "Text(0, 0.5, 'profits')"
            ]
          },
          "metadata": {},
          "execution_count": 2
        },
        {
          "output_type": "display_data",
          "data": {
            "text/plain": [
              "<Figure size 640x480 with 1 Axes>"
            ],
            "image/png": "[encoded data removed]"
          },
          "metadata": {}
        }
      ]
    },
    {
      "cell_type": "code",
      "source": [],
      "metadata": {
        "id": "XOlur7YEAGMr"
      },
      "execution_count": null,
      "outputs": []
    },
    {
      "cell_type": "code",
      "source": [],
      "metadata": {
        "id": "mQNVT9LbAJAK"
      },
      "execution_count": null,
      "outputs": []
    },
    {
      "cell_type": "code",
      "source": [],
      "metadata": {
        "id": "-YtJXm_CAMuO"
      },
      "execution_count": null,
      "outputs": []
    },
    {
      "cell_type": "code",
      "source": [
        "x = float(input(\"\"))\n",
        "y = float(input(\" \"))\n",
        "\n",
        "r_div = lambda a, b: a/b\n",
        "i_div = lambda a, b: a//b\n",
        "ex = lambda a, b: a**b\n",
        "md = lambda a, b: a%b\n",
        "print(round(r_div(x,y),2), i_div(x,y), ex(x,y), md(x,y))"
      ],
      "metadata": {
        "id": "EVCYDAcIAffR"
      },
      "execution_count": null,
      "outputs": []
    },
    {
      "cell_type": "code",
      "source": [],
      "metadata": {
        "id": "GmE4fUZ4Ad_G"
      },
      "execution_count": null,
      "outputs": []
    },
    {
      "cell_type": "code",
      "source": [
        "import re\n",
        "txt=\"The rain in Spain\"\n",
        "x=re.findall(\"ai\", txt)\n",
        "print(x)\n",
        "x=re.findall(\"Portugal\", txt)\n",
        "print(x)"
      ],
      "metadata": {
        "colab": {
          "base_uri": "https://localhost:8080/"
        },
        "id": "KubKe3eZK50b",
        "outputId": "a35df6c1-0004-45b8-c249-d91f3a911220"
      },
      "execution_count": null,
      "outputs": [
        {
          "output_type": "stream",
          "name": "stdout",
          "text": [
            "['ai', 'ai']\n",
            "[]\n"
          ]
        }
      ]
    },
    {
      "cell_type": "code",
      "source": [
        "import re\n",
        "\n",
        "txt = \"The rain in Spain\"\n",
        "x = re.split(\"\\s\", txt)\n",
        "print(x)"
      ],
      "metadata": {
        "colab": {
          "base_uri": "https://localhost:8080/"
        },
        "id": "Z4SlMXW-LiZS",
        "outputId": "57e44999-12b8-4abe-eba4-f46909070b00"
      },
      "execution_count": null,
      "outputs": [
        {
          "output_type": "stream",
          "name": "stdout",
          "text": [
            "['The', 'rain', 'in', 'Spain']\n"
          ]
        }
      ]
    },
    {
      "cell_type": "code",
      "source": [
        "import re\n",
        "\n",
        "txt = \"The rain in Spain\"\n",
        "x = re.sub(\"\\s\", \"|\", txt)\n",
        "print(x)"
      ],
      "metadata": {
        "colab": {
          "base_uri": "https://localhost:8080/"
        },
        "id": "lLO13Ag6MT-7",
        "outputId": "08bd8cb4-b4ef-4c64-e64e-fb8408b714f8"
      },
      "execution_count": null,
      "outputs": [
        {
          "output_type": "stream",
          "name": "stdout",
          "text": [
            "The|rain|in|Spain\n"
          ]
        }
      ]
    },
    {
      "cell_type": "code",
      "source": [
        "import re\n",
        "\n",
        "txt = \"The rain in Spain\"\n",
        "x = re.search(\"ai\", txt)\n",
        "print(x)"
      ],
      "metadata": {
        "colab": {
          "base_uri": "https://localhost:8080/"
        },
        "id": "3CDUtoDDNyJ0",
        "outputId": "0776dffa-4bd1-4073-ef06-1705c83cfee4"
      },
      "execution_count": null,
      "outputs": [
        {
          "output_type": "stream",
          "name": "stdout",
          "text": [
            "<re.Match object; span=(5, 7), match='ai'>\n"
          ]
        }
      ]
    },
    {
      "cell_type": "code",
      "source": [
        "import re\n",
        "def fun(string):\n",
        "    txt = re.compile(r'[^a-zA-Z0-9]')\n",
        "    string = txt.search(string)\n",
        "    return not bool(string)\n",
        "\n",
        "\n",
        "result=fun(\"ABCDEFabcdef123450\")\n",
        "print(result)\n",
        "result=fun(\"*&%@#!}{\")\n",
        "print(result)"
      ],
      "metadata": {
        "colab": {
          "base_uri": "https://localhost:8080/"
        },
        "id": "u8IDFa1mPhcr",
        "outputId": "1cd6655c-7ac3-4fbf-9281-b407a131c280"
      },
      "execution_count": null,
      "outputs": [
        {
          "output_type": "stream",
          "name": "stdout",
          "text": [
            "True\n",
            "False\n"
          ]
        }
      ]
    },
    {
      "cell_type": "code",
      "source": [
        "import matplotlib.pyplot as plt\n",
        "import numpy as np\n",
        "xpoints=np.array([0,6])\n",
        "ypoints=np.array([0,250])\n",
        "plt.plot(xpoints,ypoints)\n",
        "plt.show()"
      ],
      "metadata": {
        "colab": {
          "base_uri": "https://localhost:8080/",
          "height": 430
        },
        "id": "2DnyYkNl_hX8",
        "outputId": "845560dc-f0f5-4ce4-c734-a344dbd55535"
      },
      "execution_count": null,
      "outputs": [
        {
          "output_type": "display_data",
          "data": {
            "text/plain": [
              "<Figure size 640x480 with 1 Axes>"
            ],
            "image/png": "[encoded data removed]"
          },
          "metadata": {}
        }
      ]
    },
    {
      "cell_type": "code",
      "source": [],
      "metadata": {
        "id": "i_o9URD_AWRh"
      },
      "execution_count": null,
      "outputs": []
    },
    {
      "cell_type": "code",
      "source": [
        "import matplotlib.pyplot as plt\n",
        "import numpy as np\n",
        "xpoints=np.array([1,8])\n",
        "ypoints=np.array([3,10])\n",
        "plt.plot(xpoints,ypoints)\n",
        "plt.show()\n"
      ],
      "metadata": {
        "id": "9CQTrBF3gmB-",
        "colab": {
          "base_uri": "https://localhost:8080/",
          "height": 430
        },
        "outputId": "61459a7b-ec11-436a-fa89-43facfb2838a"
      },
      "execution_count": null,
      "outputs": [
        {
          "output_type": "display_data",
          "data": {
            "text/plain": [
              "<Figure size 640x480 with 1 Axes>"
            ],
            "image/png": "[encoded data removed]"
          },
          "metadata": {}
        }
      ]
    },
    {
      "cell_type": "code",
      "source": [
        "import matplotlib.pyplot as plt\n",
        "import numpy as np\n",
        "#plot 1\n",
        "x = np.array([0, 1, 2, 3])\n",
        "y = np.array([3, 8, 1, 10])\n",
        "plt.subplot(1,2,1)\n",
        "plt.plot(x,y)\n",
        "#plot 2\n",
        "x = np.array([0, 1, 2, 3])\n",
        "y = np.array([10, 20, 30, 40])\n",
        "plt.subplot(1, 2, 2)\n",
        "plt.plot(x,y)\n",
        "plt.show()"
      ],
      "metadata": {
        "colab": {
          "base_uri": "https://localhost:8080/",
          "height": 430
        },
        "id": "eTLc76gGAbau",
        "outputId": "43c56a58-86ec-42a3-cf55-99c1e2f71dad"
      },
      "execution_count": null,
      "outputs": [
        {
          "output_type": "display_data",
          "data": {
            "text/plain": [
              "<Figure size 640x480 with 2 Axes>"
            ],
            "image/png": "[encoded data removed]"
          },
          "metadata": {}
        }
      ]
    },
    {
      "cell_type": "code",
      "source": [
        "import matplotlib.pyplot as plt\n",
        "import numpy as np\n",
        "\n",
        "y = np.array([80, 10, 5, 5])\n",
        "mylabels = [\"Qatar\", \"America\", \"Germany\", \"England\"]\n",
        "\n",
        "\n",
        "plt.pie(y, labels = mylabels)\n",
        "plt.pie(y)\n",
        "plt.show()"
      ],
      "metadata": {
        "colab": {
          "base_uri": "https://localhost:8080/",
          "height": 406
        },
        "id": "-1QeXSG4K5jW",
        "outputId": "7c00c3f9-22b4-4289-8a88-b461e122bdd9"
      },
      "execution_count": null,
      "outputs": [
        {
          "output_type": "display_data",
          "data": {
            "text/plain": [
              "<Figure size 640x480 with 1 Axes>"
            ],
            "image/png": "[encoded data removed]"
          },
          "metadata": {}
        }
      ]
    },
    {
      "cell_type": "code",
      "source": [
        "#create a table\n",
        "import sqlite3\n",
        "\n",
        "\n",
        "conn = sqlite3.connect('test.db')\n",
        "print(\"Opened database successfully\")\n",
        "\n",
        "\n",
        "conn.execute('''CREATE TABLE EMPLOYEE5\n",
        "(ID INT PRIMARY KEY    NOT NULL,\n",
        "NAME      TEXT    NOT NULL,\n",
        "AGE      INT    NT NULL,\n",
        "ADDRESS      CHAR(50),\n",
        "SALARY      REAL);''')\n",
        "print(\"Table created successfully\")\n",
        "\n",
        "conn.close()"
      ],
      "metadata": {
        "colab": {
          "base_uri": "https://localhost:8080/"
        },
        "id": "4M9Qk-cuCy2-",
        "outputId": "0de12b67-620b-4ca0-c196-fa52732f05b1"
      },
      "execution_count": null,
      "outputs": [
        {
          "output_type": "stream",
          "name": "stdout",
          "text": [
            "Opened database successfully\n",
            "Table created successfully\n"
          ]
        }
      ]
    },
    {
      "cell_type": "code",
      "source": [
        "#INSERT OPERATION\n",
        "import sqlite3\n",
        "\n",
        "\n",
        "conn = sqlite3.connect('test.db')\n",
        "print(\"Opened database succesfully\")\n",
        "\n",
        "\n",
        "conn.execute(\"INSERT INTO EMPLOYEE5 (ID,NAME,AGE,ADDRESS,SALARY) VALUES (1, 'PAUL', 32, 'california', 20000 )\")\n",
        "\n",
        "conn.execute(\"INSERT INTO EMPLOYEE5 (ID,NAME,AGE,ADDRESS,SALARY) VALUES (2, 'Allen', 25, 'Texas', 15000 )\")\n",
        "\n",
        "conn.execute(\"INSERT INTO EMPLOYEE5 (ID,NAME,AGE,ADDRESS,SALARY) values (3, 'Teddy', 23, 'Norway', 20000 )\")"
      ],
      "metadata": {
        "colab": {
          "base_uri": "https://localhost:8080/"
        },
        "id": "7v5gvbNjFpOB",
        "outputId": "2d66a605-4a3f-49ba-dcf9-2741ac269d9e"
      },
      "execution_count": null,
      "outputs": [
        {
          "output_type": "stream",
          "name": "stdout",
          "text": [
            "Opened database succesfully\n"
          ]
        },
        {
          "output_type": "execute_result",
          "data": {
            "text/plain": [
              "<sqlite3.Cursor at 0x7f3a577b05e0>"
            ]
          },
          "metadata": {},
          "execution_count": 18
        }
      ]
    },
    {
      "cell_type": "code",
      "source": [
        "cursor = conn.execute(\"SELECT id, name, address, salary from EMPLOYEE5\")\n",
        "for row in cursor:\n",
        "  print(\"ID = \", row[0])\n",
        "  print(\"NAME = \", row[1])\n",
        "  print(\"ADDRESS = \", row[2])\n",
        "  print(\"SALARY = \", row[3], \"\\n\")\n",
        "\n",
        "\n",
        "  print(\"Operation done successfully\")\n",
        "  conn.close()"
      ],
      "metadata": {
        "colab": {
          "base_uri": "https://localhost:8080/",
          "height": 237
        },
        "id": "izX5kGf6J8oQ",
        "outputId": "6fe3cc28-63e8-4263-ebb0-d04e5f4348a7"
      },
      "execution_count": null,
      "outputs": [
        {
          "output_type": "error",
          "ename": "NameError",
          "evalue": "ignored",
          "traceback": [
            "\u001b[0;31m---------------------------------------------------------------------------\u001b[0m",
            "\u001b[0;31mNameError\u001b[0m                                 Traceback (most recent call last)",
            "\u001b[0;32m<ipython-input-1-367b990440a2>\u001b[0m in \u001b[0;36m<cell line: 1>\u001b[0;34m()\u001b[0m\n\u001b[0;32m----> 1\u001b[0;31m \u001b[0mcursor\u001b[0m \u001b[0;34m=\u001b[0m \u001b[0mconn\u001b[0m\u001b[0;34m.\u001b[0m\u001b[0mexecute\u001b[0m\u001b[0;34m(\u001b[0m\u001b[0;34m\"SELECT id, name, address, salary from EMPLOYEE5\"\u001b[0m\u001b[0;34m)\u001b[0m\u001b[0;34m\u001b[0m\u001b[0;34m\u001b[0m\u001b[0m\n\u001b[0m\u001b[1;32m      2\u001b[0m \u001b[0;32mfor\u001b[0m \u001b[0mrow\u001b[0m \u001b[0;32min\u001b[0m \u001b[0mcursor\u001b[0m\u001b[0;34m:\u001b[0m\u001b[0;34m\u001b[0m\u001b[0;34m\u001b[0m\u001b[0m\n\u001b[1;32m      3\u001b[0m   \u001b[0mprint\u001b[0m\u001b[0;34m(\u001b[0m\u001b[0;34m\"ID = \"\u001b[0m\u001b[0;34m,\u001b[0m \u001b[0mrow\u001b[0m\u001b[0;34m[\u001b[0m\u001b[0;36m0\u001b[0m\u001b[0;34m]\u001b[0m\u001b[0;34m)\u001b[0m\u001b[0;34m\u001b[0m\u001b[0;34m\u001b[0m\u001b[0m\n\u001b[1;32m      4\u001b[0m   \u001b[0mprint\u001b[0m\u001b[0;34m(\u001b[0m\u001b[0;34m\"NAME = \"\u001b[0m\u001b[0;34m,\u001b[0m \u001b[0mrow\u001b[0m\u001b[0;34m[\u001b[0m\u001b[0;36m1\u001b[0m\u001b[0;34m]\u001b[0m\u001b[0;34m)\u001b[0m\u001b[0;34m\u001b[0m\u001b[0;34m\u001b[0m\u001b[0m\n\u001b[1;32m      5\u001b[0m   \u001b[0mprint\u001b[0m\u001b[0;34m(\u001b[0m\u001b[0;34m\"ADDRESS = \"\u001b[0m\u001b[0;34m,\u001b[0m \u001b[0mrow\u001b[0m\u001b[0;34m[\u001b[0m\u001b[0;36m2\u001b[0m\u001b[0;34m]\u001b[0m\u001b[0;34m)\u001b[0m\u001b[0;34m\u001b[0m\u001b[0;34m\u001b[0m\u001b[0m\n",
            "\u001b[0;31mNameError\u001b[0m: name 'conn' is not defined"
          ]
        }
      ]
    },
    {
      "cell_type": "code",
      "source": [
        "#create table student\n",
        "import sqlite3\n",
        "\n",
        "\n",
        "conn = sqlite3.connect('test.db')\n",
        "print(\"Opened database successfully\")\n",
        "\n",
        "\n",
        "conn.execute('''CREATE TABLE students6\n",
        "(ROLL NO  INT PRIMARY KEY    NOT NULL,\n",
        "NAME      TEXT    NOT NULL,\n",
        "MARKS1      INT    NOT NULL,\n",
        "MARKS2      INT    NOT NULL,\n",
        "TOTAL      REAL);''')\n",
        "print(\"Table created successfully\")\n",
        "\n",
        "#conn.close()\n",
        "\n",
        "conn = sqlite3.connect('test.db')\n",
        "print(\"Opened database succesfully\")\n",
        "\n",
        "\n",
        "conn.execute(\"INSERT INTO STUDENTS6 VALUES (1022, 'PAUL', 56, 28, 84 )\");\n",
        "\n",
        "conn.execute(\"INSERT INTO STUDENTS6 VALUES (2002, 'Allen', 25, 69, 94 )\");\n",
        "\n",
        "conn.execute(\"INSERT INTO STUDENTS6 VALUES (3302, 'Teddy', 12, 45, 57 )\");\n",
        "\n",
        "cursor = conn.execute(\"SELECT * FROM STUDENTS6\")\n",
        "for row in cursor:\n",
        "  print(\"ROLL NO = \", row[0])\n",
        "  print(\"NAME = \", row[1])\n",
        "  print(\"MARKS1 = \", row[2])\n",
        "  print(\"MARKS2 = \", row[3])\n",
        "  print(\"TOTAL = \", row[4], \"\\n\")\n",
        "\n",
        "\n",
        "print(\"Operation done successfully\")\n",
        "conn.close()"
      ],
      "metadata": {
        "colab": {
          "base_uri": "https://localhost:8080/"
        },
        "id": "lW4O20EYDq4U",
        "outputId": "485fb4db-1277-4d32-a484-988ca970dd6e"
      },
      "execution_count": null,
      "outputs": [
        {
          "output_type": "stream",
          "name": "stdout",
          "text": [
            "Opened database successfully\n",
            "Table created successfully\n",
            "Opened database succesfully\n",
            "ROLL NO =  1022\n",
            "NAME =  PAUL\n",
            "MARKS1 =  56\n",
            "MARKS2 =  28\n",
            "TOTAL =  84.0 \n",
            "\n",
            "ROLL NO =  2002\n",
            "NAME =  Allen\n",
            "MARKS1 =  25\n",
            "MARKS2 =  69\n",
            "TOTAL =  94.0 \n",
            "\n",
            "ROLL NO =  3302\n",
            "NAME =  Teddy\n",
            "MARKS1 =  12\n",
            "MARKS2 =  45\n",
            "TOTAL =  57.0 \n",
            "\n",
            "Operation done successfully\n"
          ]
        }
      ]
    },
    {
      "cell_type": "code",
      "source": [
        "#create table student\n",
        "import sqlite3\n",
        "\n",
        "\n",
        "conn = sqlite3.connect('test.db')\n",
        "print(\"Opened database successfully\")\n",
        "\n",
        "\n",
        "conn.execute('''CREATE TABLE students7\n",
        "(ROLL NO  INT PRIMARY KEY    NOT NULL,\n",
        "NAME      TEXT    NOT NULL,\n",
        "MARKS1      INT    NOT NULL,\n",
        "MARKS2      INT    NOT NULL,\n",
        "TOTAL      REAL);''')\n",
        "print(\"Table created successfully\")\n",
        "\n",
        "#conn.close()\n",
        "\n",
        "conn = sqlite3.connect('test.db')\n",
        "print(\"Opened database succesfully\")\n",
        "\n",
        "\n",
        "conn.execute(\"INSERT INTO STUDENTS7 VALUES (1022, 'PAUL', 56, 28, 84 )\");\n",
        "\n",
        "conn.execute(\"INSERT INTO STUDENTS7 VALUES (2002, 'Allen', 25, 69, 94 )\");\n",
        "\n",
        "conn.execute(\"INSERT INTO STUDENTS7 VALUES (3302, 'Teddy', 12, 45, 57 )\");\n",
        "\n",
        "cursor = conn.execute(\"SELECT * FROM STUDENTS7 WHERE NAME = 'Teddy'\")\n",
        "for row in cursor:\n",
        "  print(\"ROLL NO = \", row[0])\n",
        "  print(\"NAME = \", row[1])\n",
        "  print(\"MARKS1 = \", row[2])\n",
        "  print(\"MARKS2 = \", row[3])\n",
        "  print(\"TOTAL = \", row[4], \"\\n\")\n",
        "\n",
        "\n",
        "print(\"Operation done successfully\")\n",
        "conn.close()\n",
        "\n",
        "import sqlite3\n",
        "conn = sqlite3.connect('test.db')\n",
        "print(\"Opened database successfully\")\n",
        "\n",
        "conn.execute(\"UPDATE students7 Set marks1=100 Where NAME = 'Teddy'\")\n",
        "conn.commit()\n",
        "print(\"Total number of rows updated :\", conn.total_changes)\n",
        "\n",
        "print(\"operation done succesfully\")\n",
        "conn.close()\n",
        "\n",
        "import sqlite3\n",
        "conn = sqlite3.connect('test.db')\n",
        "print(\"Opened database successfully\")\n",
        "\n",
        "conn.execute(\"DELETE from students7 where NAME = 'Teddy'\")\n",
        "conn.commit()\n",
        "print(\"Total number of rows deleted :\", conn.total_changes)\n",
        "\n",
        "print(\"operation done succesfully\")\n",
        "conn.close()\n",
        "\n",
        "\n",
        "\n",
        "\n"
      ],
      "metadata": {
        "colab": {
          "base_uri": "https://localhost:8080/"
        },
        "id": "78rYEvVlPtuK",
        "outputId": "cf1a9700-4ffd-4e6c-87b7-ca8a0b826555"
      },
      "execution_count": null,
      "outputs": [
        {
          "output_type": "stream",
          "name": "stdout",
          "text": [
            "Opened database successfully\n",
            "Table created successfully\n",
            "Opened database succesfully\n",
            "ROLL NO =  3302\n",
            "NAME =  Teddy\n",
            "MARKS1 =  12\n",
            "MARKS2 =  45\n",
            "TOTAL =  57.0 \n",
            "\n",
            "Operation done successfully\n",
            "Opened database successfully\n",
            "Total number of rows updated : 0\n",
            "operation done succesfully\n",
            "Opened database successfully\n",
            "Total number of rows deleted : 0\n",
            "operation done succesfully\n"
          ]
        }
      ]
    },
    {
      "cell_type": "code",
      "source": [
        "import sqlite3\n",
        "conn = sqlite3.connect('test.db')\n",
        "print(\"Opened database successfully\")\n",
        "\n",
        "conn.execute(\"UPDATE students7 Set marks1=100 Where NAME = Teddy\")\n",
        "conn.commit()\n",
        "print(\"Total number of rows updated :\", conn.total_changes)\n",
        "\n",
        "print(\"operation done succesfully\")\n",
        "conn.close()"
      ],
      "metadata": {
        "colab": {
          "base_uri": "https://localhost:8080/",
          "height": 253
        },
        "id": "qNK9p_qwcmnt",
        "outputId": "735f6d7c-aec3-41b4-a725-4037c9625762"
      },
      "execution_count": null,
      "outputs": [
        {
          "output_type": "stream",
          "name": "stdout",
          "text": [
            "Opened database successfully\n"
          ]
        },
        {
          "output_type": "error",
          "ename": "OperationalError",
          "evalue": "ignored",
          "traceback": [
            "\u001b[0;31m---------------------------------------------------------------------------\u001b[0m",
            "\u001b[0;31mOperationalError\u001b[0m                          Traceback (most recent call last)",
            "\u001b[0;32m<ipython-input-5-677bd63f5822>\u001b[0m in \u001b[0;36m<cell line: 5>\u001b[0;34m()\u001b[0m\n\u001b[1;32m      3\u001b[0m \u001b[0mprint\u001b[0m\u001b[0;34m(\u001b[0m\u001b[0;34m\"Opened database successfully\"\u001b[0m\u001b[0;34m)\u001b[0m\u001b[0;34m\u001b[0m\u001b[0;34m\u001b[0m\u001b[0m\n\u001b[1;32m      4\u001b[0m \u001b[0;34m\u001b[0m\u001b[0m\n\u001b[0;32m----> 5\u001b[0;31m \u001b[0mconn\u001b[0m\u001b[0;34m.\u001b[0m\u001b[0mexecute\u001b[0m\u001b[0;34m(\u001b[0m\u001b[0;34m\"UPDATE students7 Set marks1=100 Where NAME = Teddy\"\u001b[0m\u001b[0;34m)\u001b[0m\u001b[0;34m\u001b[0m\u001b[0;34m\u001b[0m\u001b[0m\n\u001b[0m\u001b[1;32m      6\u001b[0m \u001b[0mconn\u001b[0m\u001b[0;34m.\u001b[0m\u001b[0mcommit\u001b[0m\u001b[0;34m(\u001b[0m\u001b[0;34m)\u001b[0m\u001b[0;34m\u001b[0m\u001b[0;34m\u001b[0m\u001b[0m\n\u001b[1;32m      7\u001b[0m \u001b[0mprint\u001b[0m\u001b[0;34m(\u001b[0m\u001b[0;34m\"Total number of rows updated :\"\u001b[0m\u001b[0;34m,\u001b[0m \u001b[0mconn\u001b[0m\u001b[0;34m.\u001b[0m\u001b[0mtotal_changes\u001b[0m\u001b[0;34m)\u001b[0m\u001b[0;34m\u001b[0m\u001b[0;34m\u001b[0m\u001b[0m\n",
            "\u001b[0;31mOperationalError\u001b[0m: no such table: students7"
          ]
        }
      ]
    },
    {
      "cell_type": "code",
      "source": [
        "import sqlite3\n",
        "conn=sqlite3.connect('test.db')\n",
        "\n",
        "cursor = conn.execute(\"SELECT * FROM STUDENTS6 WHERE NAME = Teddy\")\n",
        "for row in cursor:\n",
        "  print(\"ROLL NO = \", row[0])\n",
        "  print(\"NAME = \", row[1])\n",
        "  print(\"MARKS1 = \", row[2])\n",
        "  print(\"MARKS2 = \", row[3])\n",
        "  print(\"TOTAL = \", row[4], \"\\n\")\n",
        "\n",
        "\n",
        "print(\"Operation done successfully\")\n",
        "conn.close()"
      ],
      "metadata": {
        "colab": {
          "base_uri": "https://localhost:8080/",
          "height": 237
        },
        "id": "Kzr3BMSROt7M",
        "outputId": "35139e7a-afda-4ec7-e7a4-a2998d737d19"
      },
      "execution_count": null,
      "outputs": [
        {
          "output_type": "error",
          "ename": "OperationalError",
          "evalue": "ignored",
          "traceback": [
            "\u001b[0;31m---------------------------------------------------------------------------\u001b[0m",
            "\u001b[0;31mOperationalError\u001b[0m                          Traceback (most recent call last)",
            "\u001b[0;32m<ipython-input-14-93de757570ac>\u001b[0m in \u001b[0;36m<cell line: 4>\u001b[0;34m()\u001b[0m\n\u001b[1;32m      2\u001b[0m \u001b[0mconn\u001b[0m\u001b[0;34m=\u001b[0m\u001b[0msqlite3\u001b[0m\u001b[0;34m.\u001b[0m\u001b[0mconnect\u001b[0m\u001b[0;34m(\u001b[0m\u001b[0;34m'test.db'\u001b[0m\u001b[0;34m)\u001b[0m\u001b[0;34m\u001b[0m\u001b[0;34m\u001b[0m\u001b[0m\n\u001b[1;32m      3\u001b[0m \u001b[0;34m\u001b[0m\u001b[0m\n\u001b[0;32m----> 4\u001b[0;31m \u001b[0mcursor\u001b[0m \u001b[0;34m=\u001b[0m \u001b[0mconn\u001b[0m\u001b[0;34m.\u001b[0m\u001b[0mexecute\u001b[0m\u001b[0;34m(\u001b[0m\u001b[0;34m\"SELECT * FROM STUDENTS6 WHERE NAME = Teddy\"\u001b[0m\u001b[0;34m)\u001b[0m\u001b[0;34m\u001b[0m\u001b[0;34m\u001b[0m\u001b[0m\n\u001b[0m\u001b[1;32m      5\u001b[0m \u001b[0;32mfor\u001b[0m \u001b[0mrow\u001b[0m \u001b[0;32min\u001b[0m \u001b[0mcursor\u001b[0m\u001b[0;34m:\u001b[0m\u001b[0;34m\u001b[0m\u001b[0;34m\u001b[0m\u001b[0m\n\u001b[1;32m      6\u001b[0m   \u001b[0mprint\u001b[0m\u001b[0;34m(\u001b[0m\u001b[0;34m\"ROLL NO = \"\u001b[0m\u001b[0;34m,\u001b[0m \u001b[0mrow\u001b[0m\u001b[0;34m[\u001b[0m\u001b[0;36m0\u001b[0m\u001b[0;34m]\u001b[0m\u001b[0;34m)\u001b[0m\u001b[0;34m\u001b[0m\u001b[0;34m\u001b[0m\u001b[0m\n",
            "\u001b[0;31mOperationalError\u001b[0m: no such table: STUDENTS6"
          ]
        }
      ]
    },
    {
      "cell_type": "code",
      "source": [],
      "metadata": {
        "id": "o_issQDU9AD5"
      },
      "execution_count": null,
      "outputs": []
    },
    {
      "cell_type": "code",
      "source": [
        "string_list=[]\n",
        "count=0\n",
        "num=int(input(\"Enter the string\"))\n",
        "for i in range(num):\n",
        "  element=input(\"ENter a string:\")\n",
        "  string_list.append(element)\n",
        "for i in string_list:\n",
        "  if len(i)>=1 and i[0]==i[-1]:\n",
        "    count= count+1\n",
        "\n",
        "print(count)\n"
      ],
      "metadata": {
        "colab": {
          "base_uri": "https://localhost:8080/"
        },
        "id": "GNAt50rB8NF2",
        "outputId": "c2e08777-0f06-4128-b2f3-ce1b8009e8dc"
      },
      "execution_count": null,
      "outputs": [
        {
          "output_type": "stream",
          "name": "stdout",
          "text": [
            "Enter the string4\n",
            "ENter a string:1221\n",
            "ENter a string:ABC@11\n",
            "ENter a string:109.2\n",
            "ENter a string:PO009\n",
            "1\n"
          ]
        }
      ]
    },
    {
      "cell_type": "code",
      "source": [
        "f=open(\"Demofile1.txt\",\"r\")\n",
        "print(\"With ReadLIne...:\",f.reafline())\n",
        "\n",
        "\n",
        "print(\"With Read...:\",f.read())"
      ],
      "metadata": {
        "id": "Xqm9QlFrFnyX"
      },
      "execution_count": null,
      "outputs": []
    },
    {
      "cell_type": "code",
      "source": [],
      "metadata": {
        "id": "nJrTSx0c0-gc"
      },
      "execution_count": null,
      "outputs": []
    },
    {
      "cell_type": "code",
      "source": [
        "tuple_list=[]\n",
        "while True:\n",
        "  user_input=input(\"Enter a tuple separated by a space (or 'q' to quit): \")\n",
        "  if user_input.lower()=='q':\n",
        "    break\n",
        "    tuple_list.append(tuple(msp(int, user_input.split())))\n",
        "    print('Original list',tuple_list)\n",
        "    k=int(input('enter length of a tuple to delete'))\n",
        "    res = list(filter(lambda x : len(x) != K, tuple_list))\n",
        "    print(\"filtered list : \" + str(res))"
      ],
      "metadata": {
        "colab": {
          "base_uri": "https://localhost:8080/",
          "height": 416
        },
        "id": "-y5BxjfhyWcD",
        "outputId": "96f8651f-024e-497f-c44f-894ddc0c7c74"
      },
      "execution_count": null,
      "outputs": [
        {
          "name": "stdout",
          "output_type": "stream",
          "text": [
            "Enter a tuple separated by a space (or 'q' to quit): (\n"
          ]
        },
        {
          "output_type": "error",
          "ename": "KeyboardInterrupt",
          "evalue": "ignored",
          "traceback": [
            "\u001b[0;31m---------------------------------------------------------------------------\u001b[0m",
            "\u001b[0;31mKeyboardInterrupt\u001b[0m                         Traceback (most recent call last)",
            "\u001b[0;32m<ipython-input-1-fe17424cb600>\u001b[0m in \u001b[0;36m<module>\u001b[0;34m\u001b[0m\n\u001b[1;32m      1\u001b[0m \u001b[0mtuple_list\u001b[0m\u001b[0;34m=\u001b[0m\u001b[0;34m[\u001b[0m\u001b[0;34m]\u001b[0m\u001b[0;34m\u001b[0m\u001b[0;34m\u001b[0m\u001b[0m\n\u001b[1;32m      2\u001b[0m \u001b[0;32mwhile\u001b[0m \u001b[0;32mTrue\u001b[0m\u001b[0;34m:\u001b[0m\u001b[0;34m\u001b[0m\u001b[0;34m\u001b[0m\u001b[0m\n\u001b[0;32m----> 3\u001b[0;31m   \u001b[0muser_input\u001b[0m\u001b[0;34m=\u001b[0m\u001b[0minput\u001b[0m\u001b[0;34m(\u001b[0m\u001b[0;34m\"Enter a tuple separated by a space (or 'q' to quit): \"\u001b[0m\u001b[0;34m)\u001b[0m\u001b[0;34m\u001b[0m\u001b[0;34m\u001b[0m\u001b[0m\n\u001b[0m\u001b[1;32m      4\u001b[0m   \u001b[0;32mif\u001b[0m \u001b[0muser_input\u001b[0m\u001b[0;34m.\u001b[0m\u001b[0mlower\u001b[0m\u001b[0;34m(\u001b[0m\u001b[0;34m)\u001b[0m\u001b[0;34m==\u001b[0m\u001b[0;34m'q'\u001b[0m\u001b[0;34m:\u001b[0m\u001b[0;34m\u001b[0m\u001b[0;34m\u001b[0m\u001b[0m\n\u001b[1;32m      5\u001b[0m     \u001b[0;32mbreak\u001b[0m\u001b[0;34m\u001b[0m\u001b[0;34m\u001b[0m\u001b[0m\n",
            "\u001b[0;32m/usr/local/lib/python3.9/dist-packages/ipykernel/kernelbase.py\u001b[0m in \u001b[0;36mraw_input\u001b[0;34m(self, prompt)\u001b[0m\n\u001b[1;32m    858\u001b[0m                 \u001b[0;34m\"raw_input was called, but this frontend does not support input requests.\"\u001b[0m\u001b[0;34m\u001b[0m\u001b[0;34m\u001b[0m\u001b[0m\n\u001b[1;32m    859\u001b[0m             )\n\u001b[0;32m--> 860\u001b[0;31m         return self._input_request(str(prompt),\n\u001b[0m\u001b[1;32m    861\u001b[0m             \u001b[0mself\u001b[0m\u001b[0;34m.\u001b[0m\u001b[0m_parent_ident\u001b[0m\u001b[0;34m,\u001b[0m\u001b[0;34m\u001b[0m\u001b[0;34m\u001b[0m\u001b[0m\n\u001b[1;32m    862\u001b[0m             \u001b[0mself\u001b[0m\u001b[0;34m.\u001b[0m\u001b[0m_parent_header\u001b[0m\u001b[0;34m,\u001b[0m\u001b[0;34m\u001b[0m\u001b[0;34m\u001b[0m\u001b[0m\n",
            "\u001b[0;32m/usr/local/lib/python3.9/dist-packages/ipykernel/kernelbase.py\u001b[0m in \u001b[0;36m_input_request\u001b[0;34m(self, prompt, ident, parent, password)\u001b[0m\n\u001b[1;32m    902\u001b[0m             \u001b[0;32mexcept\u001b[0m \u001b[0mKeyboardInterrupt\u001b[0m\u001b[0;34m:\u001b[0m\u001b[0;34m\u001b[0m\u001b[0;34m\u001b[0m\u001b[0m\n\u001b[1;32m    903\u001b[0m                 \u001b[0;31m# re-raise KeyboardInterrupt, to truncate traceback\u001b[0m\u001b[0;34m\u001b[0m\u001b[0;34m\u001b[0m\u001b[0m\n\u001b[0;32m--> 904\u001b[0;31m                 \u001b[0;32mraise\u001b[0m \u001b[0mKeyboardInterrupt\u001b[0m\u001b[0;34m(\u001b[0m\u001b[0;34m\"Interrupted by user\"\u001b[0m\u001b[0;34m)\u001b[0m \u001b[0;32mfrom\u001b[0m \u001b[0;32mNone\u001b[0m\u001b[0;34m\u001b[0m\u001b[0;34m\u001b[0m\u001b[0m\n\u001b[0m\u001b[1;32m    905\u001b[0m             \u001b[0;32mexcept\u001b[0m \u001b[0mException\u001b[0m \u001b[0;32mas\u001b[0m \u001b[0me\u001b[0m\u001b[0;34m:\u001b[0m\u001b[0;34m\u001b[0m\u001b[0;34m\u001b[0m\u001b[0m\n\u001b[1;32m    906\u001b[0m                 \u001b[0mself\u001b[0m\u001b[0;34m.\u001b[0m\u001b[0mlog\u001b[0m\u001b[0;34m.\u001b[0m\u001b[0mwarning\u001b[0m\u001b[0;34m(\u001b[0m\u001b[0;34m\"Invalid Message:\"\u001b[0m\u001b[0;34m,\u001b[0m \u001b[0mexc_info\u001b[0m\u001b[0;34m=\u001b[0m\u001b[0;32mTrue\u001b[0m\u001b[0;34m)\u001b[0m\u001b[0;34m\u001b[0m\u001b[0;34m\u001b[0m\u001b[0m\n",
            "\u001b[0;31mKeyboardInterrupt\u001b[0m: Interrupted by user"
          ]
        }
      ]
    },
    {
      "cell_type": "code",
      "source": [
        "list1=[]\n",
        "num=int(input(\"No of element\"))\n",
        "for i in range(num):\n",
        "     ele=int(input(\"Enter Elements: \"))\n",
        "     list1.append(ele)\n",
        "print(list1)"
      ],
      "metadata": {
        "colab": {
          "base_uri": "https://localhost:8080/"
        },
        "id": "5v-YTHrbOvru",
        "outputId": "94dafc83-fd0b-4299-dc29-e538a9c7b2da"
      },
      "execution_count": null,
      "outputs": [
        {
          "output_type": "stream",
          "name": "stdout",
          "text": [
            "No of element10\n",
            "Enter Elements: 20\n",
            "Enter Elements: 30\n",
            "Enter Elements: 40\n",
            "Enter Elements: 50\n",
            "Enter Elements: 60\n",
            "Enter Elements: 70\n",
            "Enter Elements: 80\n",
            "Enter Elements: 90\n",
            "Enter Elements: 100\n",
            "Enter Elements: 110\n",
            "[20, 30, 40, 50, 60, 70, 80, 90, 100, 110]\n"
          ]
        }
      ]
    },
    {
      "cell_type": "code",
      "source": [
        "length = len(list1)\n",
        "list1.sort()\n",
        "print(\"Second Smallest element is:\",list1[1])\n",
        "print(\"SECOND Largest element is:\",list1[length-2])"
      ],
      "metadata": {
        "colab": {
          "base_uri": "https://localhost:8080/"
        },
        "id": "nINlrj4GQA4f",
        "outputId": "3ab81eb2-0add-448f-b3b9-b8a52ac1f3d0"
      },
      "execution_count": null,
      "outputs": [
        {
          "output_type": "stream",
          "name": "stdout",
          "text": [
            "Second Smallest element is: 30\n",
            "SECOND Largest element is: 100\n"
          ]
        }
      ]
    },
    {
      "cell_type": "code",
      "source": [
        "list1=[]\n",
        "num=int(input(\"No of element\"))\n",
        "for i in range(num):\n",
        "     ele=int(input(\"Enter Elements: \"))\n",
        "     list1.append(ele)\n",
        "print(list1)\n",
        "length = len(list1)\n",
        "list1.sort()\n",
        "print(\"Second Smallest element is:\",list1[1])\n",
        "print(\"SECOND Largest element is:\",list1[length-2])"
      ],
      "metadata": {
        "colab": {
          "base_uri": "https://localhost:8080/"
        },
        "id": "m_KrIWVfRjCm",
        "outputId": "1734c7f6-20d6-47d9-b759-795dbeca4575"
      },
      "execution_count": null,
      "outputs": [
        {
          "output_type": "stream",
          "name": "stdout",
          "text": [
            "No of element5\n",
            "Enter Elements: 10\n",
            "Enter Elements: 20\n",
            "Enter Elements: 30\n",
            "Enter Elements: 40\n",
            "Enter Elements: 50\n",
            "[10, 20, 30, 40, 50]\n",
            "Second Smallest element is: 20\n",
            "SECOND Largest element is: 40\n"
          ]
        }
      ]
    },
    {
      "cell_type": "code",
      "source": [
        "file=open(\"python.txt\",\"r\")\n",
        "for line in file:\n",
        "  print(line)\n",
        "file.close()"
      ],
      "metadata": {
        "colab": {
          "base_uri": "https://localhost:8080/",
          "height": 219
        },
        "id": "Sv56LcT9RheK",
        "outputId": "5abb0b86-a0cc-4b5d-d3bf-169eb83e93ea"
      },
      "execution_count": null,
      "outputs": [
        {
          "output_type": "error",
          "ename": "FileNotFoundError",
          "evalue": "ignored",
          "traceback": [
            "\u001b[0;31m---------------------------------------------------------------------------\u001b[0m",
            "\u001b[0;31mFileNotFoundError\u001b[0m                         Traceback (most recent call last)",
            "\u001b[0;32m<ipython-input-1-bae9c093b668>\u001b[0m in \u001b[0;36m<cell line: 1>\u001b[0;34m()\u001b[0m\n\u001b[0;32m----> 1\u001b[0;31m \u001b[0mfile\u001b[0m\u001b[0;34m=\u001b[0m\u001b[0mopen\u001b[0m\u001b[0;34m(\u001b[0m\u001b[0;34m\"python.txt\"\u001b[0m\u001b[0;34m,\u001b[0m\u001b[0;34m\"r\"\u001b[0m\u001b[0;34m)\u001b[0m\u001b[0;34m\u001b[0m\u001b[0;34m\u001b[0m\u001b[0m\n\u001b[0m\u001b[1;32m      2\u001b[0m \u001b[0;32mfor\u001b[0m \u001b[0mline\u001b[0m \u001b[0;32min\u001b[0m \u001b[0mfile\u001b[0m\u001b[0;34m:\u001b[0m\u001b[0;34m\u001b[0m\u001b[0;34m\u001b[0m\u001b[0m\n\u001b[1;32m      3\u001b[0m   \u001b[0mprint\u001b[0m\u001b[0;34m(\u001b[0m\u001b[0mline\u001b[0m\u001b[0;34m)\u001b[0m\u001b[0;34m\u001b[0m\u001b[0;34m\u001b[0m\u001b[0m\n\u001b[1;32m      4\u001b[0m \u001b[0mfile\u001b[0m\u001b[0;34m.\u001b[0m\u001b[0mclose\u001b[0m\u001b[0;34m(\u001b[0m\u001b[0;34m)\u001b[0m\u001b[0;34m\u001b[0m\u001b[0;34m\u001b[0m\u001b[0m\n",
            "\u001b[0;31mFileNotFoundError\u001b[0m: [Errno 2] No such file or directory: 'python.txt'"
          ]
        }
      ]
    }
  ]
}